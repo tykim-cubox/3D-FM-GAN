{
 "cells": [
  {
   "cell_type": "code",
   "execution_count": null,
   "metadata": {},
   "outputs": [],
   "source": []
  },
  {
   "cell_type": "code",
   "execution_count": 50,
   "metadata": {},
   "outputs": [],
   "source": [
    "import shutil\n",
    "from pathlib import Path\n",
    "import os"
   ]
  },
  {
   "cell_type": "code",
   "execution_count": 2,
   "metadata": {},
   "outputs": [],
   "source": [
    "ori_data_list = list(Path('/home/aiteam/tykim/generative/gan/3D-FM-GAN/data/syn_data').rglob('*.png'))\n",
    "\n",
    "render_list = list(Path('/home/aiteam/tykim/generative/gan/3D-FM-GAN/data/syn_data/render').rglob('*.png'))\n",
    "\n",
    "npy_list = list(Path('/home/aiteam/tykim/generative/gan/3D-FM-GAN/data/syn_data').rglob('*.npy'))\n",
    "\n",
    "\n",
    "ori_data_list = sorted(ori_data_list)\n",
    "render_list = sorted(render_list)\n",
    "npy_list = sorted(npy_list)"
   ]
  },
  {
   "cell_type": "code",
   "execution_count": 6,
   "metadata": {},
   "outputs": [
    {
     "data": {
      "text/plain": [
       "'9999'"
      ]
     },
     "execution_count": 6,
     "metadata": {},
     "output_type": "execute_result"
    }
   ],
   "source": [
    "'{:03d}'.format(9999)"
   ]
  },
  {
   "cell_type": "code",
   "execution_count": 14,
   "metadata": {},
   "outputs": [
    {
     "name": "stdout",
     "output_type": "stream",
     "text": [
      "0 000_00.png\n",
      "1 000_01.png\n",
      "2 000_02.png\n",
      "3 000_03.png\n",
      "4 000_04.png\n",
      "5 000_05.png\n",
      "6 000_06.png\n",
      "7 001_00.png\n",
      "8 001_01.png\n",
      "9 001_02.png\n",
      "10 001_03.png\n",
      "11 001_04.png\n",
      "12 001_05.png\n",
      "13 001_06.png\n",
      "14 002_00.png\n",
      "15 002_01.png\n",
      "16 002_02.png\n",
      "17 002_03.png\n",
      "18 002_04.png\n",
      "19 002_05.png\n",
      "20 002_06.png\n"
     ]
    }
   ],
   "source": [
    "for i in range(3):\n",
    "    for j in range(7):\n",
    "        print(i*7+j, ori_data_list[i*7+j].parts[-1])\n",
    "        # dst = os.path.join(new_dir, ori_data_list[i+j].parts[-1])\n",
    "        # print(dst)\n",
    "\n",
    "        "
   ]
  },
  {
   "cell_type": "code",
   "execution_count": null,
   "metadata": {},
   "outputs": [],
   "source": [
    "for i in range(10000):\n",
    "    new_dir = os.path.join('/home/aiteam/tykim/generative/gan/3D-FM-GAN/data/syn_data', f'{i}')\n",
    "    Path(new_dir).mkdir(parents=True, exist_ok=True)\n",
    "    print(i)\n",
    "    if i==0:\n",
    "        continue\n",
    "    for j in range(7):\n",
    "        # origin data\n",
    "        dst = os.path.join(new_dir, ori_data_list[i*7+j].parts[-1])\n",
    "        # print(dst)\n",
    "        shutil.move(str(ori_data_list[i*7+j]), dst)\n",
    "        # rendering data\n",
    "        dst = os.path.join(new_dir, render_list[i*7+j].parts[-1])\n",
    "        shutil.move(str(render_list[i*7+j]), dst)\n",
    "        \n",
    "    dst = os.path.join(new_dir, npy_list[i].parts[-1])\n",
    "    shutil.move(str(npy_list[i]), dst)"
   ]
  },
  {
   "cell_type": "code",
   "execution_count": null,
   "metadata": {},
   "outputs": [],
   "source": [
    "render\n",
    "000_00.png\n",
    "000_06.png\n",
    "000.npy\n",
    "9999_0004_r.png"
   ]
  },
  {
   "cell_type": "code",
   "execution_count": 16,
   "metadata": {},
   "outputs": [],
   "source": [
    "path = Path('/home/aiteam/tykim/generative/gan/3D-FM-GAN/data/syn_data')"
   ]
  },
  {
   "cell_type": "code",
   "execution_count": 23,
   "metadata": {},
   "outputs": [],
   "source": [
    "path = Path('/home/aiteam/tykim/generative/gan/3D-FM-GAN/data/syn_data')\n",
    "a = list(path.rglob('*.npy'))"
   ]
  },
  {
   "cell_type": "code",
   "execution_count": null,
   "metadata": {},
   "outputs": [],
   "source": [
    "for i in path.iterdir():\n",
    "    sub_dir = Path(i)\n",
    "    print(list(sub_dir.glob('*.png')))\n",
    "    break"
   ]
  },
  {
   "cell_type": "code",
   "execution_count": 28,
   "metadata": {},
   "outputs": [],
   "source": [
    "src = '/home/aiteam/tykim/generative/gan/3D-FM-GAN/data/syn_data/0'\n",
    "p = Path(src)"
   ]
  },
  {
   "cell_type": "code",
   "execution_count": 29,
   "metadata": {},
   "outputs": [
    {
     "data": {
      "text/plain": [
       "PosixPath('/home/aiteam/tykim/generative/gan/3D-FM-GAN/data/syn_data')"
      ]
     },
     "execution_count": 29,
     "metadata": {},
     "output_type": "execute_result"
    }
   ],
   "source": [
    "p.parents[0]"
   ]
  },
  {
   "cell_type": "code",
   "execution_count": 30,
   "metadata": {},
   "outputs": [
    {
     "name": "stdout",
     "output_type": "stream",
     "text": [
      "/home/aiteam/tykim/generative/gan/3D-FM-GAN/data/syn_data/0_temp\n"
     ]
    }
   ],
   "source": [
    "dst = os.path.join(p.parents[0], f'{Path(src).parts[-1]}_temp')\n",
    "print(dst)"
   ]
  },
  {
   "cell_type": "code",
   "execution_count": 31,
   "metadata": {},
   "outputs": [],
   "source": [
    "os.rename(p, dst)"
   ]
  },
  {
   "cell_type": "code",
   "execution_count": 34,
   "metadata": {},
   "outputs": [],
   "source": [
    "# 잠시 temp라 변경\n",
    "\n",
    "root = '/home/aiteam/tykim/generative/gan/3D-FM-GAN/data/syn_data'\n",
    "\n",
    "for i in range(10000):\n",
    "    if i == 0:\n",
    "        continue\n",
    "    src = os.path.join(root, str(i))\n",
    "    src_path = Path(src)\n",
    "    dst = os.path.join(src_path.parents[0], f'{src_path.parts[-1]}_temp')\n",
    "    os.rename(src_path, dst)"
   ]
  },
  {
   "cell_type": "code",
   "execution_count": 50,
   "metadata": {},
   "outputs": [],
   "source": [
    "root = Path('/home/aiteam/tykim/generative/gan/3D-FM-GAN/data/syn_data')\n",
    "\n",
    "for i in range(10000):\n",
    "    src = os.path.join(root, f'{str(i)}_temp')\n",
    "    npy_path = list(Path(src).rglob('*.npy'))\n",
    "    file_name = Path(npy_path[0]).parts[-1].replace('.npy', '')\n",
    "    dst = os.path.join(root, file_name)\n",
    "    # print(src, dst)\n",
    "    os.rename(src, dst)\n",
    "    # print(npy_name[0].parts(-1))"
   ]
  },
  {
   "cell_type": "code",
   "execution_count": null,
   "metadata": {},
   "outputs": [],
   "source": [
    "os.listdir('/home/aiteam/tykim/generative/gan/3D-FM-GAN/data/syn_data')"
   ]
  },
  {
   "cell_type": "code",
   "execution_count": 53,
   "metadata": {},
   "outputs": [
    {
     "name": "stderr",
     "output_type": "stream",
     "text": [
      "/home/aiteam/miniconda3/envs/deep3d_pytorch/lib/python3.6/site-packages/tqdm/auto.py:22: TqdmWarning: IProgress not found. Please update jupyter and ipywidgets. See https://ipywidgets.readthedocs.io/en/stable/user_install.html\n",
      "  from .autonotebook import tqdm as notebook_tqdm\n"
     ]
    }
   ],
   "source": [
    "import torch"
   ]
  },
  {
   "cell_type": "code",
   "execution_count": 54,
   "metadata": {},
   "outputs": [],
   "source": [
    "x = torch.randn(32, 3, 224, 224)"
   ]
  },
  {
   "cell_type": "code",
   "execution_count": 55,
   "metadata": {},
   "outputs": [],
   "source": [
    "test = torch.split(x, 32)"
   ]
  },
  {
   "cell_type": "code",
   "execution_count": 58,
   "metadata": {},
   "outputs": [
    {
     "data": {
      "text/plain": [
       "torch.Size([32, 3, 224, 224])"
      ]
     },
     "execution_count": 58,
     "metadata": {},
     "output_type": "execute_result"
    }
   ],
   "source": [
    "test[0].shape"
   ]
  },
  {
   "cell_type": "code",
   "execution_count": 14,
   "metadata": {},
   "outputs": [
    {
     "name": "stderr",
     "output_type": "stream",
     "text": [
      "/home/aiteam/miniconda3/envs/deep3d_pytorch/lib/python3.6/site-packages/tqdm/auto.py:22: TqdmWarning: IProgress not found. Please update jupyter and ipywidgets. See https://ipywidgets.readthedocs.io/en/stable/user_install.html\n",
      "  from .autonotebook import tqdm as notebook_tqdm\n"
     ]
    }
   ],
   "source": [
    "import torch"
   ]
  },
  {
   "cell_type": "code",
   "execution_count": 20,
   "metadata": {},
   "outputs": [],
   "source": [
    "a = torch.randperm(7)[:2]"
   ]
  },
  {
   "cell_type": "code",
   "execution_count": 21,
   "metadata": {},
   "outputs": [
    {
     "data": {
      "text/plain": [
       "tensor(6)"
      ]
     },
     "execution_count": 21,
     "metadata": {},
     "output_type": "execute_result"
    }
   ],
   "source": [
    "a[0]"
   ]
  },
  {
   "cell_type": "code",
   "execution_count": 23,
   "metadata": {},
   "outputs": [
    {
     "data": {
      "text/plain": [
       "'0006'"
      ]
     },
     "execution_count": 23,
     "metadata": {},
     "output_type": "execute_result"
    }
   ],
   "source": [
    "'{:04d}'.format(a[0])"
   ]
  },
  {
   "cell_type": "code",
   "execution_count": 22,
   "metadata": {},
   "outputs": [
    {
     "name": "stdout",
     "output_type": "stream",
     "text": [
      "0006\n"
     ]
    }
   ],
   "source": [
    "print('{:04d}'.format(a[0]))"
   ]
  },
  {
   "cell_type": "code",
   "execution_count": 28,
   "metadata": {},
   "outputs": [],
   "source": [
    "img_p_list = list(Path('/home/aiteam/tykim/generative/gan/3D-FM-GAN/data/syn_data').rglob('*[!_r].png'))\n",
    "img_r_list = list(Path('/home/aiteam/tykim/generative/gan/3D-FM-GAN/data/syn_data').rglob('*_r.png'))"
   ]
  },
  {
   "cell_type": "code",
   "execution_count": 30,
   "metadata": {},
   "outputs": [
    {
     "data": {
      "text/plain": [
       "[PosixPath('/home/aiteam/tykim/generative/gan/3D-FM-GAN/data/syn_data/7883/7884_02.png'),\n",
       " PosixPath('/home/aiteam/tykim/generative/gan/3D-FM-GAN/data/syn_data/7883/7884_03.png'),\n",
       " PosixPath('/home/aiteam/tykim/generative/gan/3D-FM-GAN/data/syn_data/7883/7884_06.png'),\n",
       " PosixPath('/home/aiteam/tykim/generative/gan/3D-FM-GAN/data/syn_data/7883/7884_04.png'),\n",
       " PosixPath('/home/aiteam/tykim/generative/gan/3D-FM-GAN/data/syn_data/7883/7884_00.png'),\n",
       " PosixPath('/home/aiteam/tykim/generative/gan/3D-FM-GAN/data/syn_data/7883/7884_05.png'),\n",
       " PosixPath('/home/aiteam/tykim/generative/gan/3D-FM-GAN/data/syn_data/7883/7884_01.png'),\n",
       " PosixPath('/home/aiteam/tykim/generative/gan/3D-FM-GAN/data/syn_data/2973/2974_04.png'),\n",
       " PosixPath('/home/aiteam/tykim/generative/gan/3D-FM-GAN/data/syn_data/2973/2974_05.png'),\n",
       " PosixPath('/home/aiteam/tykim/generative/gan/3D-FM-GAN/data/syn_data/2973/2974_00.png')]"
      ]
     },
     "execution_count": 30,
     "metadata": {},
     "output_type": "execute_result"
    }
   ],
   "source": [
    "img_p_list[:10]"
   ]
  },
  {
   "cell_type": "code",
   "execution_count": 29,
   "metadata": {},
   "outputs": [
    {
     "data": {
      "text/plain": [
       "[PosixPath('/home/aiteam/tykim/generative/gan/3D-FM-GAN/data/syn_data/7883/7884_0005_r.png'),\n",
       " PosixPath('/home/aiteam/tykim/generative/gan/3D-FM-GAN/data/syn_data/7883/7884_0002_r.png'),\n",
       " PosixPath('/home/aiteam/tykim/generative/gan/3D-FM-GAN/data/syn_data/7883/7884_0006_r.png'),\n",
       " PosixPath('/home/aiteam/tykim/generative/gan/3D-FM-GAN/data/syn_data/7883/7884_0004_r.png'),\n",
       " PosixPath('/home/aiteam/tykim/generative/gan/3D-FM-GAN/data/syn_data/7883/7884_0003_r.png'),\n",
       " PosixPath('/home/aiteam/tykim/generative/gan/3D-FM-GAN/data/syn_data/7883/7884_0000_r.png'),\n",
       " PosixPath('/home/aiteam/tykim/generative/gan/3D-FM-GAN/data/syn_data/7883/7884_0001_r.png'),\n",
       " PosixPath('/home/aiteam/tykim/generative/gan/3D-FM-GAN/data/syn_data/2973/2974_0000_r.png'),\n",
       " PosixPath('/home/aiteam/tykim/generative/gan/3D-FM-GAN/data/syn_data/2973/2974_0005_r.png'),\n",
       " PosixPath('/home/aiteam/tykim/generative/gan/3D-FM-GAN/data/syn_data/2973/2974_0001_r.png')]"
      ]
     },
     "execution_count": 29,
     "metadata": {},
     "output_type": "execute_result"
    }
   ],
   "source": [
    "img_r_list[:10]"
   ]
  },
  {
   "cell_type": "code",
   "execution_count": 25,
   "metadata": {},
   "outputs": [],
   "source": [
    "variation_idx = torch.randperm(7)[:2]"
   ]
  },
  {
   "cell_type": "code",
   "execution_count": 26,
   "metadata": {},
   "outputs": [],
   "source": [
    "idx = 1000"
   ]
  },
  {
   "cell_type": "code",
   "execution_count": 31,
   "metadata": {},
   "outputs": [],
   "source": [
    "p1_name = f'{idx}_{variation_idx[0]}.png'\n",
    "r1_name = f'{idx}_{variation_idx[0]}_r.png'\n",
    "p2_name = f'{idx}_{variation_idx[1]}.png'\n",
    "r2_name = f'{idx}_{variation_idx[1]}_r.png'"
   ]
  },
  {
   "cell_type": "code",
   "execution_count": 33,
   "metadata": {},
   "outputs": [],
   "source": [
    "path = Path('/home/aiteam/tykim/generative/gan/3D-FM-GAN/data/syn_data').joinpath(p1_name)"
   ]
  },
  {
   "cell_type": "code",
   "execution_count": 35,
   "metadata": {},
   "outputs": [],
   "source": [
    "path = Path('/home/aiteam/tykim/generative/gan/3D-FM-GAN/data/syn_data/7883/7884_05.png')"
   ]
  },
  {
   "cell_type": "code",
   "execution_count": 39,
   "metadata": {},
   "outputs": [],
   "source": [
    "path = Path('/home/aiteam/tykim/generative/gan/3D-FM-GAN/data/syn_data')\n",
    "a = list(path.iterdir())"
   ]
  },
  {
   "cell_type": "code",
   "execution_count": 46,
   "metadata": {},
   "outputs": [
    {
     "data": {
      "text/plain": [
       "PosixPath('/home/aiteam/tykim/generative/gan/3D-FM-GAN/data/syn_data/1000')"
      ]
     },
     "execution_count": 46,
     "metadata": {},
     "output_type": "execute_result"
    }
   ],
   "source": [
    "t = path.joinpath('{:03d}'.format(1000))\n",
    "t"
   ]
  },
  {
   "cell_type": "code",
   "execution_count": 52,
   "metadata": {},
   "outputs": [],
   "source": [
    "path = Path('/home/aiteam/tykim/generative/gan/3D-FM-GAN/data/syn_data')\n",
    "path_list = list(path.iterdir())\n",
    "dst = path\n",
    "for i in range(len(path_list)):\n",
    "    sub_path = path.joinpath('{:03d}'.format(i))\n",
    "    for j in list(sub_path.iterdir()):\n",
    "        shutil.move(str(j), str(path.joinpath(j.parts[-1])))"
   ]
  },
  {
   "cell_type": "code",
   "execution_count": null,
   "metadata": {},
   "outputs": [],
   "source": []
  }
 ],
 "metadata": {
  "kernelspec": {
   "display_name": "Python 3.8.10 ('base')",
   "language": "python",
   "name": "python3"
  },
  "language_info": {
   "codemirror_mode": {
    "name": "ipython",
    "version": 3
   },
   "file_extension": ".py",
   "mimetype": "text/x-python",
   "name": "python",
   "nbconvert_exporter": "python",
   "pygments_lexer": "ipython3",
   "version": "3.8.10"
  },
  "orig_nbformat": 4,
  "vscode": {
   "interpreter": {
    "hash": "d4d1e4263499bec80672ea0156c357c1ee493ec2b1c70f0acce89fc37c4a6abe"
   }
  }
 },
 "nbformat": 4,
 "nbformat_minor": 2
}
