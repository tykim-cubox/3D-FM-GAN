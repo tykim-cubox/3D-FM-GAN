{
 "cells": [
  {
   "cell_type": "code",
   "execution_count": 1,
   "metadata": {},
   "outputs": [
    {
     "name": "stderr",
     "output_type": "stream",
     "text": [
      "/home/aiteam/miniconda3/envs/apa/lib/python3.7/site-packages/tqdm/auto.py:22: TqdmWarning: IProgress not found. Please update jupyter and ipywidgets. See https://ipywidgets.readthedocs.io/en/stable/user_install.html\n",
      "  from .autonotebook import tqdm as notebook_tqdm\n"
     ]
    }
   ],
   "source": [
    "import torch\n",
    "import torch.nn as nn\n",
    "from torch.nn import Linear, Module\n",
    "\n",
    "from torchvision.models import resnet18\n",
    "from models.stylegan2.model import Generator"
   ]
  },
  {
   "cell_type": "code",
   "execution_count": 5,
   "metadata": {},
   "outputs": [],
   "source": [
    "enc_t = resnet18(pretrained=False)"
   ]
  },
  {
   "cell_type": "code",
   "execution_count": 22,
   "metadata": {},
   "outputs": [],
   "source": [
    "class Encoder(nn.Module):\n",
    "    def __init__(self, emb_space):\n",
    "        super(Encoder, self).__init__()\n",
    "        resnet = resnet18(pretrained=False)\n",
    "\n",
    "        if emb_space == 'tensor':\n",
    "            self.features = nn.Sequential(*list(resnet.children())[:-2])\n",
    "        elif emb_space == 'modulation':\n",
    "            self.features = nn.Sequential(*list(resnet.children())[:-1])\n",
    "        \n",
    "    def forward(self, x):\n",
    "        x = self.features(x)\n",
    "        return x"
   ]
  },
  {
   "cell_type": "code",
   "execution_count": 19,
   "metadata": {},
   "outputs": [],
   "source": [
    "enc_t = Encoder('tensor') # [1, 3, 256, 256] -> [1, 512, 8, 8] # 논문에선 512 x 4 x 4"
   ]
  },
  {
   "cell_type": "code",
   "execution_count": 23,
   "metadata": {},
   "outputs": [],
   "source": [
    "enc_w = Encoder('modulation') #[1, 3, 256, 256] -> [1, 512, 1, 1]"
   ]
  },
  {
   "cell_type": "code",
   "execution_count": null,
   "metadata": {},
   "outputs": [],
   "source": [
    "import math\n",
    "class make_empty_object(object):\n",
    "  pass\n",
    "\n",
    "\n",
    "config.input_size = 256\n",
    "config.stylegan_weight = '/home/aiteam/tykim/generative/gan/3D-FM-GAN/pretraiend/550000.pt'\n",
    "\n",
    "class FMGAN(nn.Module):\n",
    "  def __init__(self, config):\n",
    "    # [1, 3, 256, 256] -> [1, 512, 8, 8] # 논문에선 512 x 4 x 4\n",
    "    self.enc_t = Encoder('tensor')\n",
    "    #[1, 3, 256, 256] -> [1, 512, 1, 1]\n",
    "    self.enc_w = Encoder('modulation')\n",
    "    opts = make_empty_object()\n",
    "    opts.input_nc = 3\n",
    "    output_size = 1024\n",
    "    opts.n_styles = int(math.log(output_size, 2)) * 2 - 2\n",
    "    # [1,3,256,256] -> [1, 18, 512]\n",
    "    self.enc_wplus = GradualStyleEncoder(50, 'ir_se', opts)\n",
    "    \n",
    "    self.stylegan = Generator(config.input_size, 512, 8)\n",
    "    self.stylegan.load_state_dict(ckpt['g_ema'], strict=False)\n",
    "\n",
    "    \n",
    "  def forward(self, rendered_img, orig_img):\n",
    "    t = self.enc_t(rendered_img)\n",
    "    w = self.enc_w(rendered_img)\n",
    "    w = w.reshape(1, 1, 512)\n",
    "    wplus = self.enc_wplus(orig_img)\n",
    "\n",
    "    w_final = w * wplus \n",
    "\n",
    "    # t : \n",
    "    # w_final : \n",
    "    images, result_latent = self.stylegan([w_final], tensor_input=t,\n",
    "                                          input_is_latent=True,\n",
    "                                          randomize_noise=False,\n",
    "                                          return_latents=True,\n",
    "                                          input_is_tensor=True)\n",
    "    # images : [B, 3, 256, 256]\n",
    "    # result_latent : [B, 18, 512]\n",
    "    return images"
   ]
  },
  {
   "cell_type": "code",
   "execution_count": 2,
   "metadata": {},
   "outputs": [],
   "source": [
    "from models.stylegan2.model import Generator\n",
    "\n",
    "g = Generator(256, 512, 8).to('cuda:1')"
   ]
  },
  {
   "cell_type": "code",
   "execution_count": 4,
   "metadata": {},
   "outputs": [],
   "source": [
    "test_tensor_input = torch.randn(3, 512, 4, 4).to('cuda:1')\n",
    "latents = torch.randn(3, 18, 512).to('cuda:1')"
   ]
  },
  {
   "cell_type": "code",
   "execution_count": 1,
   "metadata": {},
   "outputs": [],
   "source": [
    "import os\n",
    "import sys"
   ]
  },
  {
   "cell_type": "code",
   "execution_count": 2,
   "metadata": {},
   "outputs": [],
   "source": [
    "sys.path.append('/home/aiteam/tykim/generative/gan/3D-FM-GAN/models/Deep3DFaceRecon_pytorch')"
   ]
  },
  {
   "cell_type": "code",
   "execution_count": 3,
   "metadata": {},
   "outputs": [
    {
     "name": "stderr",
     "output_type": "stream",
     "text": [
      "/home/aiteam/miniconda3/envs/deep3d_pytorch2/lib/python3.6/site-packages/tqdm/auto.py:22: TqdmWarning: IProgress not found. Please update jupyter and ipywidgets. See https://ipywidgets.readthedocs.io/en/stable/user_install.html\n",
      "  from .autonotebook import tqdm as notebook_tqdm\n",
      "/home/aiteam/miniconda3/envs/deep3d_pytorch2/lib/python3.6/site-packages/kornia/augmentation/augmentation.py:1875: DeprecationWarning: GaussianBlur is no longer maintained and will be removed from the future versions. Please use RandomGaussianBlur instead.\n",
      "  category=DeprecationWarning,\n"
     ]
    }
   ],
   "source": [
    "from options.test_options import TestOptions"
   ]
  },
  {
   "cell_type": "code",
   "execution_count": null,
   "metadata": {},
   "outputs": [],
   "source": [
    "# from models.Deep3DFaceRecon_pytorch.models import create_model\n",
    "# from models.Deep3DFaceRecon_pytorch.options.test_options import TestOptions\n",
    "from models import create_model\n",
    "from options.test_options import TestOptions\n",
    "\n",
    "\n",
    "opt = TestOptions(cmd_line=[]).parse()\n",
    "print(opt)\n",
    "# model = create_model(opt)"
   ]
  },
  {
   "cell_type": "code",
   "execution_count": null,
   "metadata": {},
   "outputs": [],
   "source": [
    "def train(model, recog_model, recon_loader, dt_loader):\n",
    "    for i, (p_in, r_in) in enumerate(recon_loader):\n",
    "        out = model(p_in, r_in)\n",
    "    "
   ]
  },
  {
   "cell_type": "code",
   "execution_count": null,
   "metadata": {},
   "outputs": [],
   "source": []
  }
 ],
 "metadata": {
  "kernelspec": {
   "display_name": "Python 3.6.15 ('deep3d_pytorch2')",
   "language": "python",
   "name": "python3"
  },
  "language_info": {
   "codemirror_mode": {
    "name": "ipython",
    "version": 3
   },
   "file_extension": ".py",
   "mimetype": "text/x-python",
   "name": "python",
   "nbconvert_exporter": "python",
   "pygments_lexer": "ipython3",
   "version": "3.6.13"
  },
  "orig_nbformat": 4,
  "vscode": {
   "interpreter": {
    "hash": "eea4cbabab7e25f1483d4a45232ebb849a5688c0d115e4d3c808ca60a6ff2169"
   }
  }
 },
 "nbformat": 4,
 "nbformat_minor": 2
}
