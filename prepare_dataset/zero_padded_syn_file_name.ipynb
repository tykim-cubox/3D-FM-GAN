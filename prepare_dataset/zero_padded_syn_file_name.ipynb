{
 "cells": [
  {
   "cell_type": "markdown",
   "metadata": {},
   "source": [
    "- syn data의 파일 이름 형식이 제각각이라서 sorting이 이상하게 나와서 dataset 동작이 매끄럽지 않음\n",
    "- zero padded를 하여 natural sorting을 할 수 있게 함"
   ]
  },
  {
   "cell_type": "code",
   "execution_count": null,
   "metadata": {},
   "outputs": [],
   "source": [
    "from pathlib import Path\n",
    "import shutil\n",
    "from PIL import Image\n",
    "p_img_list = list(Path('/workspace/gan/3D-FM-GAN/data/syn_data/images/').rglob('*.png'))\n",
    "p_img_list = sorted(p_img_list)\n",
    "p_img_list[:30]"
   ]
  },
  {
   "cell_type": "code",
   "execution_count": null,
   "metadata": {},
   "outputs": [],
   "source": [
    "'%05d'%(int('1000'))"
   ]
  },
  {
   "cell_type": "code",
   "execution_count": null,
   "metadata": {},
   "outputs": [],
   "source": [
    "for idx, p in enumerate(p_img_list):\n",
    "    subject_name_str = p.parts[-1].split('_')[0]\n",
    "    # paddding\n",
    "    subject_name_str = '%05d'%(int(subject_name_str))\n",
    "    subject_var_str = p.parts[-1].split('_')[-1].split('.png')[0]\n",
    "    subject_var_str = str(int(subject_var_str))\n",
    "\n",
    "    # 00000_0.png 방식\n",
    "    dst_file_name = f'{subject_name_str}_{subject_var_str}.png'\n",
    "    dst = p.parent.joinpath(dst_file_name)\n",
    "\n",
    "    shutil.move(p, dst)"
   ]
  },
  {
   "cell_type": "code",
   "execution_count": null,
   "metadata": {},
   "outputs": [],
   "source": [
    "# 확인\n",
    "p_img_list = list(Path('/workspace/gan/3D-FM-GAN/data/syn_data/images/').rglob('*.png'))\n",
    "p_img_list = sorted(p_img_list)\n",
    "p_img_list[:30]"
   ]
  },
  {
   "cell_type": "code",
   "execution_count": null,
   "metadata": {},
   "outputs": [],
   "source": [
    "r_img_list = list(Path('/workspace/gan/3D-FM-GAN/data/syn_data/rendering/').rglob('*.png'))\n",
    "r_img_list = sorted(r_img_list)\n",
    "r_img_list[:30]"
   ]
  },
  {
   "cell_type": "code",
   "execution_count": null,
   "metadata": {},
   "outputs": [],
   "source": [
    "for idx, r in enumerate(r_img_list):\n",
    "    subject_name_str = r.parts[-1].split('_')[0]\n",
    "    subject_name_str = '%05d'%(int(subject_name_str))\n",
    "    # print(r, subject_name_str)\n",
    "    subject_var_str = r.parts[-1].split('_')[1].split('.png')[0]\n",
    "    # print(subject_var_str)\n",
    "    subject_var_str = str(int(subject_var_str))\n",
    "\n",
    "    # print(r, subject_name_str, subject_var_str)\n",
    "    \n",
    "    dst_file_name = f'{subject_name_str}_{subject_var_str}_r.png'\n",
    "    dst = r.parent.joinpath(dst_file_name)\n",
    "    # print(r, dst)\n",
    "    shutil.move(r, dst)\n",
    "    # if idx == 30:\n",
    "    #     break"
   ]
  },
  {
   "cell_type": "code",
   "execution_count": null,
   "metadata": {},
   "outputs": [],
   "source": [
    "r_img_list = list(Path('/workspace/gan/3D-FM-GAN/data/syn_data/rendering/').rglob('*.png'))\n",
    "r_img_list = sorted(r_img_list)\n",
    "r_img_list[:30]"
   ]
  },
  {
   "cell_type": "code",
   "execution_count": null,
   "metadata": {},
   "outputs": [],
   "source": [
    "m_img_list = list(Path('/workspace/gan/3D-FM-GAN/data/syn_data/mask/').rglob('*.png'))\n",
    "m_img_list = sorted(m_img_list)\n",
    "m_img_list[:30]"
   ]
  },
  {
   "cell_type": "code",
   "execution_count": null,
   "metadata": {},
   "outputs": [],
   "source": [
    "for idx, m in enumerate(m_img_list):\n",
    "    subject_name_str = m.parts[-1].split('_')[0]\n",
    "    subject_name_str = '%05d'%(int(subject_name_str))\n",
    "    subject_var_str = m.parts[-1].split('_')[1].split('.png')[0]\n",
    "    subject_var_str = str(int(subject_var_str))\n",
    "\n",
    "    # print(m, subject_name_str, subject_var_str)\n",
    "    \n",
    "    dst_file_name = f'{subject_name_str}_{subject_var_str}_m.png'\n",
    "    dst = m.parent.joinpath(dst_file_name)\n",
    "    # print(m, dst)\n",
    "    shutil.move(m, dst)\n",
    "    # if idx == 30:\n",
    "    #     break"
   ]
  },
  {
   "cell_type": "code",
   "execution_count": null,
   "metadata": {},
   "outputs": [],
   "source": [
    "m_img_list = list(Path('/workspace/gan/3D-FM-GAN/data/syn_data/mask/').rglob('*.png'))\n",
    "m_img_list = sorted(m_img_list)\n",
    "m_img_list[:30]"
   ]
  },
  {
   "cell_type": "code",
   "execution_count": null,
   "metadata": {},
   "outputs": [],
   "source": [
    "Image.open(r_img_list[0])"
   ]
  },
  {
   "cell_type": "code",
   "execution_count": null,
   "metadata": {},
   "outputs": [],
   "source": [
    "Image.open(m_img_list[0])"
   ]
  }
 ],
 "metadata": {
  "kernelspec": {
   "display_name": "Python 3.8.10 ('base')",
   "language": "python",
   "name": "python3"
  },
  "language_info": {
   "name": "python",
   "version": "3.8.10"
  },
  "orig_nbformat": 4,
  "vscode": {
   "interpreter": {
    "hash": "d4d1e4263499bec80672ea0156c357c1ee493ec2b1c70f0acce89fc37c4a6abe"
   }
  }
 },
 "nbformat": 4,
 "nbformat_minor": 2
}
